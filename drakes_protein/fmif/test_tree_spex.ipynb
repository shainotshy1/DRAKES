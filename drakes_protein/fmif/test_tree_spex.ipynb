{
 "cells": [
  {
   "cell_type": "code",
   "execution_count": 27,
   "metadata": {},
   "outputs": [
    {
     "name": "stdout",
     "output_type": "stream",
     "text": [
      "Fitting XGBoost Models\n",
      "CV r2: 0.4889985953671273\n",
      "Num Fourier Coefficients: 139\n",
      "Set parameter WLSAccessID\n",
      "Set parameter WLSSecret\n",
      "Set parameter LicenseID to value 2403918\n",
      "Academic license 2403918 - for non-commercial use only - registered to la___@berkeley.edu\n",
      "Number of locations: 138\n",
      "Constraint 1: 188\n",
      "Constraint 2: 94\n",
      "Gurobi Optimizer version 12.0.1 build v12.0.1rc0 (linux64 - \"Ubuntu 22.04.4 LTS\")\n",
      "\n",
      "CPU model: AMD EPYC 7773X 64-Core Processor, instruction set [SSE2|AVX|AVX2]\n",
      "Thread count: 128 physical cores, 128 logical processors, using up to 32 threads\n",
      "\n",
      "Academic license 2403918 - for non-commercial use only - registered to la___@berkeley.edu\n",
      "Optimize a model with 283 rows, 138 columns and 702 nonzeros\n",
      "Model fingerprint: 0x40998afc\n",
      "Variable types: 0 continuous, 138 integer (138 binary)\n",
      "Coefficient statistics:\n",
      "  Matrix range     [1e+00, 1e+00]\n",
      "  Objective range  [7e-18, 2e+00]\n",
      "  Bounds range     [1e+00, 1e+00]\n",
      "  RHS range        [1e+00, 3e+00]\n",
      "Found heuristic solution: objective 3.8628679\n",
      "Presolve removed 147 rows and 12 columns\n",
      "Presolve time: 0.00s\n",
      "Presolved: 136 rows, 126 columns, 353 nonzeros\n",
      "Variable types: 0 continuous, 126 integer (126 binary)\n",
      "\n",
      "Root relaxation: objective 4.921273e+00, 92 iterations, 0.00 seconds (0.00 work units)\n",
      "\n",
      "    Nodes    |    Current Node    |     Objective Bounds      |     Work\n",
      " Expl Unexpl |  Obj  Depth IntInf | Incumbent    BestBd   Gap | It/Node Time\n",
      "\n",
      "*    0     0               0       4.9212730    4.92127  0.00%     -    0s\n",
      "\n",
      "Explored 1 nodes (92 simplex iterations) in 0.02 seconds (0.00 work units)\n",
      "Thread count was 32 (of 128 available processors)\n",
      "\n",
      "Solution count 2: 4.92127 3.86287 \n",
      "\n",
      "Optimal solution found (tolerance 1.00e-04)\n",
      "Best objective 4.921272952568e+00, best bound 4.921272952568e+00, gap 0.0000%\n",
      "Est. argmax [0, 0, 0, 0, 0, 0, 0, 0, 0, 0, 0, 0, 0, 0, 0, 0, 0, 0, 0, 0, 0, 0, 0, 0, 0, 0, 1, 0, 0, 0, 0, 0, 0, 0, 0, 0, 0, 0, 0, 0, 0, 0, 0, 0, 0, 0, 1, 0, 0, 0, 1, 0, 0, 0, 0, 0, 0] with est value 25.146\n"
     ]
    }
   ],
   "source": [
    "import numpy as np\n",
    "from tree_spex import lgboost_fit, lgboost_to_fourier, lgboost_tree_to_fourier, ExactSolver\n",
    "\n",
    "num_masks = 100\n",
    "num_features = 57\n",
    "max_solution_order = 3\n",
    "\n",
    "all_masks = np.random.choice(2, size=(num_masks, num_features))\n",
    "outputs = np.zeros(num_masks)\n",
    "\n",
    "for j, mask in enumerate(all_masks):\n",
    "    outputs[j] = np.sum(mask)\n",
    "\n",
    "print('Fitting XGBoost Models')\n",
    "best_model, cv_r2 = lgboost_fit(all_masks, outputs)\n",
    "print(f'CV r2: {cv_r2}')\n",
    "\n",
    "fourier_dict = lgboost_to_fourier(best_model)\n",
    "print(f'Num Fourier Coefficients: {len(fourier_dict)}')\n",
    "\n",
    "fourier_dict_trunc = dict(sorted(fourier_dict.items(), key=lambda item: abs(item[1]), reverse=True)[:2000])\n",
    "# Solve for the best mask up to max_solution_order\n",
    "best_mask = ExactSolver(fourier_dict_trunc, maximize=True, max_solution_order=max_solution_order).solve()"
   ]
  },
  {
   "cell_type": "code",
   "execution_count": null,
   "metadata": {},
   "outputs": [],
   "source": []
  }
 ],
 "metadata": {
  "kernelspec": {
   "display_name": "multiflow",
   "language": "python",
   "name": "python3"
  },
  "language_info": {
   "codemirror_mode": {
    "name": "ipython",
    "version": 3
   },
   "file_extension": ".py",
   "mimetype": "text/x-python",
   "name": "python",
   "nbconvert_exporter": "python",
   "pygments_lexer": "ipython3",
   "version": "3.10.12"
  }
 },
 "nbformat": 4,
 "nbformat_minor": 2
}
